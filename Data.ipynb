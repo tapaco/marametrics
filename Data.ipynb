{
 "cells": [
  {
   "cell_type": "code",
   "execution_count": 2,
   "metadata": {},
   "outputs": [],
   "source": [
    "import requests\n",
    "import json\n",
    "import urllib3\n",
    "import numpy as np\n",
    "import pandas as pd\n",
    "from pandas.io.json import json_normalize\n",
    "import seaborn as sns\n",
    "import matplotlib.pyplot as plt\n",
    "import plotly.express as px\n",
    "from datetime import datetime, date\n",
    "from datetime import timedelta as timedelta"
   ]
  },
  {
   "cell_type": "code",
   "execution_count": 3,
   "metadata": {},
   "outputs": [],
   "source": [
    "urllib3.disable_warnings(urllib3.exceptions.InsecureRequestWarning)"
   ]
  },
  {
   "cell_type": "code",
   "execution_count": 4,
   "metadata": {},
   "outputs": [],
   "source": [
    "weight = 82"
   ]
  },
  {
   "cell_type": "markdown",
   "metadata": {},
   "source": [
    "# Strava API feed"
   ]
  },
  {
   "cell_type": "code",
   "execution_count": 5,
   "metadata": {},
   "outputs": [],
   "source": [
    "# Access tokens\n",
    "auth_url = 'https://www.strava.com/oauth/token'\n",
    "activities_url = 'https://www.strava.com/api/v3/athlete/activities'\n",
    "payload = {\n",
    "    'client_id': '61192', \n",
    "    'client_secret': '2c4d071cbe331679dba8dd98ca5737807c649bd5',\n",
    "    'refresh_token': '064486d45898df2990c369aa127472fce092912e',\n",
    "    'grant_type': \"refresh_token\",\n",
    "    'f': 'json'\n",
    "}\n",
    "res = requests.post(auth_url, data=payload, verify=False)\n",
    "access_token = res.json()['access_token']\n",
    "\n",
    "header = {'Authorization': 'Bearer ' + f'{access_token}'}"
   ]
  },
  {
   "cell_type": "code",
   "execution_count": 6,
   "metadata": {},
   "outputs": [],
   "source": [
    "# GET request for first 200 activities\n",
    "param = {'per_page': 200, 'page': 1}\n",
    "dataset_1 = requests.get(\n",
    "    activities_url, \n",
    "    headers=header, \n",
    "    params=param).json()\n",
    "activities_1 = pd.json_normalize(dataset_1)"
   ]
  },
  {
   "cell_type": "code",
   "execution_count": 7,
   "metadata": {},
   "outputs": [],
   "source": [
    "# GET request for second 200 activities\n",
    "param2 = {'per_page': 200, 'page': 2}\n",
    "dataset_2 = requests.get(activities_url, headers=header, params=param2).json()\n",
    "activities_2 = pd.json_normalize(dataset_2)"
   ]
  },
  {
   "cell_type": "code",
   "execution_count": 9,
   "metadata": {},
   "outputs": [
    {
     "data": {
      "text/plain": [
       "{'resource_state': 2,\n",
       " 'athlete': {'id': 29242296, 'resource_state': 1},\n",
       " 'name': 'Tranquil ',\n",
       " 'distance': 7006.6,\n",
       " 'moving_time': 1990,\n",
       " 'elapsed_time': 2011,\n",
       " 'total_elevation_gain': 102.0,\n",
       " 'type': 'Run',\n",
       " 'workout_type': 0,\n",
       " 'id': 5014321946,\n",
       " 'external_id': 'garmin_push_6495888252',\n",
       " 'upload_id': 5347051889,\n",
       " 'start_date': '2021-03-26T16:14:37Z',\n",
       " 'start_date_local': '2021-03-26T16:14:37Z',\n",
       " 'timezone': '(GMT+00:00) Europe/London',\n",
       " 'utc_offset': 0.0,\n",
       " 'start_latlng': [51.641077, -0.72134],\n",
       " 'end_latlng': [51.641141, -0.721298],\n",
       " 'location_city': None,\n",
       " 'location_state': None,\n",
       " 'location_country': 'United Kingdom',\n",
       " 'start_latitude': 51.641077,\n",
       " 'start_longitude': -0.72134,\n",
       " 'achievement_count': 0,\n",
       " 'kudos_count': 4,\n",
       " 'comment_count': 0,\n",
       " 'athlete_count': 1,\n",
       " 'photo_count': 0,\n",
       " 'map': {'id': 'a5014321946',\n",
       "  'summary_polyline': 'ucezHj{kCAx@BXV~@BR?XCDe@TWRY\\\\a@n@Ud@_BxFi@dBIx@y@lCo@xCYr@}@nBoDbFoA~BmAtAc@NUWeAgCq@eBg@aBc@uBe@_EK[Yq@Ga@IYAkAKwA@uAKcDIgAMy@GkBIcA?o@RQ`@ONKRW\\\\Mh@_@b@Gf@Cx@LXJx@FVEj@UVSJUXkADiAO}Ak@yCGgAHmCA_A[g@Q_@QcB?q@Dg@?q@BIJCXBd@G^WPWRe@VeA~@mEx@yB~@oAfAoAb@m@h@c@t@s@^W`@m@Ps@BY@w@f@}CJgBRiCZmCLwA@ZPZ^Np@Ah@Ql@?THl@v@h@h@`@r@JH^?vBeBRKh@KJE`@_@HW@OIq@WcA[w@o@uB[]UFw@bBSr@a@f@g@\\\\aAnAa@^i@Xc@Hi@E][QACEKe@?q@RoB`AwA|@eAZk@pAyAMN]R]h@_@^}A|@aBFgAJq@~@cAxBmBjDa@|@U^aAvCGb@Wv@m@jCw@~@_@t@g@l@U\\\\c@~@Sr@[p@oAvAIFq@Ze@l@Wx@UTc@`BWZa@z@o@dAc@bAEFs@b@CLAZ?bADhBBX?JId@@^EPILi@f@}@l@_@^U^c@d@Ub@Yt@@f@Lt@DR`@jAz@~B~@zAVp@Zp@|@~BDz@XdBRdDLfANlCNvAP`C`@~BDrAJzBv@|C^jA\\\\z@hAlCTT\\\\@`@]`@g@`BaDnB{C^_@\\\\g@Zi@r@}APg@XiATw@Pq@Lu@Pq@\\\\gAViALg@Fk@nAmE^i@fAkAZWDI@SAS]wB@[DQx@w@@FCB[Rc@^EC',\n",
       "  'resource_state': 2},\n",
       " 'trainer': False,\n",
       " 'commute': False,\n",
       " 'manual': False,\n",
       " 'private': False,\n",
       " 'visibility': 'everyone',\n",
       " 'flagged': False,\n",
       " 'gear_id': 'g6123333',\n",
       " 'from_accepted_tag': False,\n",
       " 'upload_id_str': '5347051889',\n",
       " 'average_speed': 3.521,\n",
       " 'max_speed': 6.0,\n",
       " 'average_cadence': 84.9,\n",
       " 'has_heartrate': True,\n",
       " 'average_heartrate': 148.8,\n",
       " 'max_heartrate': 165.0,\n",
       " 'heartrate_opt_out': False,\n",
       " 'display_hide_heartrate_option': True,\n",
       " 'elev_high': 162.2,\n",
       " 'elev_low': 117.6,\n",
       " 'pr_count': 0,\n",
       " 'total_photo_count': 0,\n",
       " 'has_kudoed': False,\n",
       " 'suffer_score': 43.0}"
      ]
     },
     "execution_count": 9,
     "metadata": {},
     "output_type": "execute_result"
    }
   ],
   "source": [
    "dataset_1[0]"
   ]
  },
  {
   "cell_type": "code",
   "execution_count": 8,
   "metadata": {},
   "outputs": [],
   "source": [
    "activities = pd.concat([activities_1, activities_2])\n",
    "cols = [\n",
    "    'name', 'upload_id', 'type', 'distance', 'moving_time',   \n",
    "         'average_speed', 'max_speed', 'average_cadence',\n",
    "        'total_elevation_gain','average_heartrate', 'max_heartrate', \n",
    "        'start_date_local',\n",
    "       ]\n",
    "\n",
    "activities = activities[cols]"
   ]
  },
  {
   "cell_type": "code",
   "execution_count": 9,
   "metadata": {},
   "outputs": [],
   "source": [
    "activities['start_date_local'] = pd.to_datetime(activities['start_date_local'])\n",
    "activities['start_time'] = activities['start_date_local'].dt.time\n",
    "activities['start_date_local'] = activities['start_date_local'].dt.date"
   ]
  },
  {
   "cell_type": "code",
   "execution_count": 10,
   "metadata": {},
   "outputs": [],
   "source": [
    "runs = activities.loc[activities['type'] == 'Run']\n",
    "runs = runs.drop(['type'], axis = 1)"
   ]
  },
  {
   "cell_type": "code",
   "execution_count": 11,
   "metadata": {},
   "outputs": [
    {
     "data": {
      "text/html": [
       "<div>\n",
       "<style scoped>\n",
       "    .dataframe tbody tr th:only-of-type {\n",
       "        vertical-align: middle;\n",
       "    }\n",
       "\n",
       "    .dataframe tbody tr th {\n",
       "        vertical-align: top;\n",
       "    }\n",
       "\n",
       "    .dataframe thead th {\n",
       "        text-align: right;\n",
       "    }\n",
       "</style>\n",
       "<table border=\"1\" class=\"dataframe\">\n",
       "  <thead>\n",
       "    <tr style=\"text-align: right;\">\n",
       "      <th></th>\n",
       "      <th>name</th>\n",
       "      <th>upload_id</th>\n",
       "      <th>distance</th>\n",
       "      <th>moving_time</th>\n",
       "      <th>average_speed</th>\n",
       "      <th>max_speed</th>\n",
       "      <th>average_cadence</th>\n",
       "      <th>total_elevation_gain</th>\n",
       "      <th>average_heartrate</th>\n",
       "      <th>max_heartrate</th>\n",
       "      <th>start_date_local</th>\n",
       "      <th>start_time</th>\n",
       "    </tr>\n",
       "  </thead>\n",
       "  <tbody>\n",
       "    <tr>\n",
       "      <th>0</th>\n",
       "      <td>Top park</td>\n",
       "      <td>5.151254e+09</td>\n",
       "      <td>6539.2</td>\n",
       "      <td>1843</td>\n",
       "      <td>3.548</td>\n",
       "      <td>4.8</td>\n",
       "      <td>83.7</td>\n",
       "      <td>30.0</td>\n",
       "      <td>146.3</td>\n",
       "      <td>163.0</td>\n",
       "      <td>2021-02-22</td>\n",
       "      <td>06:51:28</td>\n",
       "    </tr>\n",
       "    <tr>\n",
       "      <th>1</th>\n",
       "      <td>Sat shift</td>\n",
       "      <td>5.141204e+09</td>\n",
       "      <td>15263.5</td>\n",
       "      <td>4640</td>\n",
       "      <td>3.290</td>\n",
       "      <td>7.3</td>\n",
       "      <td>83.1</td>\n",
       "      <td>174.0</td>\n",
       "      <td>155.1</td>\n",
       "      <td>176.0</td>\n",
       "      <td>2021-02-20</td>\n",
       "      <td>15:18:05</td>\n",
       "    </tr>\n",
       "    <tr>\n",
       "      <th>2</th>\n",
       "      <td>Friyay</td>\n",
       "      <td>5.132506e+09</td>\n",
       "      <td>6385.1</td>\n",
       "      <td>1876</td>\n",
       "      <td>3.404</td>\n",
       "      <td>5.8</td>\n",
       "      <td>84.1</td>\n",
       "      <td>89.0</td>\n",
       "      <td>164.3</td>\n",
       "      <td>181.0</td>\n",
       "      <td>2021-02-19</td>\n",
       "      <td>07:02:33</td>\n",
       "    </tr>\n",
       "    <tr>\n",
       "      <th>3</th>\n",
       "      <td>Wake up</td>\n",
       "      <td>5.121727e+09</td>\n",
       "      <td>6302.1</td>\n",
       "      <td>1830</td>\n",
       "      <td>3.444</td>\n",
       "      <td>5.2</td>\n",
       "      <td>84.2</td>\n",
       "      <td>90.0</td>\n",
       "      <td>149.0</td>\n",
       "      <td>163.0</td>\n",
       "      <td>2021-02-17</td>\n",
       "      <td>06:54:45</td>\n",
       "    </tr>\n",
       "    <tr>\n",
       "      <th>4</th>\n",
       "      <td>Tempo 🌶</td>\n",
       "      <td>5.111858e+09</td>\n",
       "      <td>6717.9</td>\n",
       "      <td>1781</td>\n",
       "      <td>3.772</td>\n",
       "      <td>5.3</td>\n",
       "      <td>83.8</td>\n",
       "      <td>38.0</td>\n",
       "      <td>144.9</td>\n",
       "      <td>174.0</td>\n",
       "      <td>2021-02-15</td>\n",
       "      <td>11:47:45</td>\n",
       "    </tr>\n",
       "  </tbody>\n",
       "</table>\n",
       "</div>"
      ],
      "text/plain": [
       "        name     upload_id  distance  moving_time  average_speed  max_speed  \\\n",
       "0   Top park  5.151254e+09    6539.2         1843          3.548        4.8   \n",
       "1  Sat shift  5.141204e+09   15263.5         4640          3.290        7.3   \n",
       "2     Friyay  5.132506e+09    6385.1         1876          3.404        5.8   \n",
       "3    Wake up  5.121727e+09    6302.1         1830          3.444        5.2   \n",
       "4    Tempo 🌶  5.111858e+09    6717.9         1781          3.772        5.3   \n",
       "\n",
       "   average_cadence  total_elevation_gain  average_heartrate  max_heartrate  \\\n",
       "0             83.7                  30.0              146.3          163.0   \n",
       "1             83.1                 174.0              155.1          176.0   \n",
       "2             84.1                  89.0              164.3          181.0   \n",
       "3             84.2                  90.0              149.0          163.0   \n",
       "4             83.8                  38.0              144.9          174.0   \n",
       "\n",
       "  start_date_local start_time  \n",
       "0       2021-02-22   06:51:28  \n",
       "1       2021-02-20   15:18:05  \n",
       "2       2021-02-19   07:02:33  \n",
       "3       2021-02-17   06:54:45  \n",
       "4       2021-02-15   11:47:45  "
      ]
     },
     "execution_count": 11,
     "metadata": {},
     "output_type": "execute_result"
    }
   ],
   "source": [
    "runs.head()"
   ]
  },
  {
   "cell_type": "code",
   "execution_count": 12,
   "metadata": {},
   "outputs": [],
   "source": [
    "runs = runs.dropna()"
   ]
  },
  {
   "cell_type": "code",
   "execution_count": 13,
   "metadata": {},
   "outputs": [],
   "source": [
    "def pace(row):\n",
    "    pace = 1000 / row['average_speed']\n",
    "    return pace"
   ]
  },
  {
   "cell_type": "code",
   "execution_count": 14,
   "metadata": {},
   "outputs": [],
   "source": [
    "runs['pace_in_sec'] = runs.apply(pace, axis=1)"
   ]
  },
  {
   "cell_type": "code",
   "execution_count": 15,
   "metadata": {},
   "outputs": [
    {
     "data": {
      "text/html": [
       "<div>\n",
       "<style scoped>\n",
       "    .dataframe tbody tr th:only-of-type {\n",
       "        vertical-align: middle;\n",
       "    }\n",
       "\n",
       "    .dataframe tbody tr th {\n",
       "        vertical-align: top;\n",
       "    }\n",
       "\n",
       "    .dataframe thead th {\n",
       "        text-align: right;\n",
       "    }\n",
       "</style>\n",
       "<table border=\"1\" class=\"dataframe\">\n",
       "  <thead>\n",
       "    <tr style=\"text-align: right;\">\n",
       "      <th></th>\n",
       "      <th>name</th>\n",
       "      <th>upload_id</th>\n",
       "      <th>distance</th>\n",
       "      <th>moving_time</th>\n",
       "      <th>average_speed</th>\n",
       "      <th>max_speed</th>\n",
       "      <th>average_cadence</th>\n",
       "      <th>total_elevation_gain</th>\n",
       "      <th>average_heartrate</th>\n",
       "      <th>max_heartrate</th>\n",
       "      <th>start_date_local</th>\n",
       "      <th>start_time</th>\n",
       "      <th>pace_in_sec</th>\n",
       "    </tr>\n",
       "  </thead>\n",
       "  <tbody>\n",
       "    <tr>\n",
       "      <th>0</th>\n",
       "      <td>Top park</td>\n",
       "      <td>5.151254e+09</td>\n",
       "      <td>6539.2</td>\n",
       "      <td>1843</td>\n",
       "      <td>3.548</td>\n",
       "      <td>4.8</td>\n",
       "      <td>83.7</td>\n",
       "      <td>30.0</td>\n",
       "      <td>146.3</td>\n",
       "      <td>163.0</td>\n",
       "      <td>2021-02-22</td>\n",
       "      <td>06:51:28</td>\n",
       "      <td>281.848929</td>\n",
       "    </tr>\n",
       "    <tr>\n",
       "      <th>1</th>\n",
       "      <td>Sat shift</td>\n",
       "      <td>5.141204e+09</td>\n",
       "      <td>15263.5</td>\n",
       "      <td>4640</td>\n",
       "      <td>3.290</td>\n",
       "      <td>7.3</td>\n",
       "      <td>83.1</td>\n",
       "      <td>174.0</td>\n",
       "      <td>155.1</td>\n",
       "      <td>176.0</td>\n",
       "      <td>2021-02-20</td>\n",
       "      <td>15:18:05</td>\n",
       "      <td>303.951368</td>\n",
       "    </tr>\n",
       "    <tr>\n",
       "      <th>2</th>\n",
       "      <td>Friyay</td>\n",
       "      <td>5.132506e+09</td>\n",
       "      <td>6385.1</td>\n",
       "      <td>1876</td>\n",
       "      <td>3.404</td>\n",
       "      <td>5.8</td>\n",
       "      <td>84.1</td>\n",
       "      <td>89.0</td>\n",
       "      <td>164.3</td>\n",
       "      <td>181.0</td>\n",
       "      <td>2021-02-19</td>\n",
       "      <td>07:02:33</td>\n",
       "      <td>293.772033</td>\n",
       "    </tr>\n",
       "    <tr>\n",
       "      <th>3</th>\n",
       "      <td>Wake up</td>\n",
       "      <td>5.121727e+09</td>\n",
       "      <td>6302.1</td>\n",
       "      <td>1830</td>\n",
       "      <td>3.444</td>\n",
       "      <td>5.2</td>\n",
       "      <td>84.2</td>\n",
       "      <td>90.0</td>\n",
       "      <td>149.0</td>\n",
       "      <td>163.0</td>\n",
       "      <td>2021-02-17</td>\n",
       "      <td>06:54:45</td>\n",
       "      <td>290.360046</td>\n",
       "    </tr>\n",
       "    <tr>\n",
       "      <th>4</th>\n",
       "      <td>Tempo 🌶</td>\n",
       "      <td>5.111858e+09</td>\n",
       "      <td>6717.9</td>\n",
       "      <td>1781</td>\n",
       "      <td>3.772</td>\n",
       "      <td>5.3</td>\n",
       "      <td>83.8</td>\n",
       "      <td>38.0</td>\n",
       "      <td>144.9</td>\n",
       "      <td>174.0</td>\n",
       "      <td>2021-02-15</td>\n",
       "      <td>11:47:45</td>\n",
       "      <td>265.111347</td>\n",
       "    </tr>\n",
       "  </tbody>\n",
       "</table>\n",
       "</div>"
      ],
      "text/plain": [
       "        name     upload_id  distance  moving_time  average_speed  max_speed  \\\n",
       "0   Top park  5.151254e+09    6539.2         1843          3.548        4.8   \n",
       "1  Sat shift  5.141204e+09   15263.5         4640          3.290        7.3   \n",
       "2     Friyay  5.132506e+09    6385.1         1876          3.404        5.8   \n",
       "3    Wake up  5.121727e+09    6302.1         1830          3.444        5.2   \n",
       "4    Tempo 🌶  5.111858e+09    6717.9         1781          3.772        5.3   \n",
       "\n",
       "   average_cadence  total_elevation_gain  average_heartrate  max_heartrate  \\\n",
       "0             83.7                  30.0              146.3          163.0   \n",
       "1             83.1                 174.0              155.1          176.0   \n",
       "2             84.1                  89.0              164.3          181.0   \n",
       "3             84.2                  90.0              149.0          163.0   \n",
       "4             83.8                  38.0              144.9          174.0   \n",
       "\n",
       "  start_date_local start_time  pace_in_sec  \n",
       "0       2021-02-22   06:51:28   281.848929  \n",
       "1       2021-02-20   15:18:05   303.951368  \n",
       "2       2021-02-19   07:02:33   293.772033  \n",
       "3       2021-02-17   06:54:45   290.360046  \n",
       "4       2021-02-15   11:47:45   265.111347  "
      ]
     },
     "execution_count": 15,
     "metadata": {},
     "output_type": "execute_result"
    }
   ],
   "source": [
    "runs.head()"
   ]
  },
  {
   "cell_type": "code",
   "execution_count": 16,
   "metadata": {},
   "outputs": [
    {
     "data": {
      "text/plain": [
       "231"
      ]
     },
     "execution_count": 16,
     "metadata": {},
     "output_type": "execute_result"
    }
   ],
   "source": [
    "len(runs)"
   ]
  },
  {
   "cell_type": "markdown",
   "metadata": {},
   "source": [
    "# Stats"
   ]
  },
  {
   "cell_type": "code",
   "execution_count": 44,
   "metadata": {},
   "outputs": [],
   "source": [
    "def power(row):\n",
    "    # TSOR formula\n",
    "    ecor = 1.04 # energy cost of running given air resistance\n",
    "    power = row['average_speed'] * ecor * weight\n",
    "    return round(power)"
   ]
  },
  {
   "cell_type": "code",
   "execution_count": 45,
   "metadata": {},
   "outputs": [],
   "source": [
    "def vo2_max(row):\n",
    "    # TSOR formula\n",
    "    velocity = (row['distance'] / 1000) / (row['moving_time'] / 3600) # km / hour\n",
    "    vo2max = 3.77 * velocity\n",
    "    return round(vo2max)"
   ]
  },
  {
   "cell_type": "markdown",
   "metadata": {},
   "source": [
    "# Time series"
   ]
  },
  {
   "cell_type": "code",
   "execution_count": 31,
   "metadata": {},
   "outputs": [],
   "source": [
    "def pace_plot(x):\n",
    "    m = int(x / 60)\n",
    "    s = int(x - (60 * m))\n",
    "    return '%(m)01d:%(s)02d' % {'m': m, 's': s}"
   ]
  },
  {
   "cell_type": "code",
   "execution_count": 32,
   "metadata": {},
   "outputs": [],
   "source": [
    "def pace_to_dt(x):\n",
    "    return datetime.strptime(x, '%M:%S')"
   ]
  },
  {
   "cell_type": "code",
   "execution_count": null,
   "metadata": {},
   "outputs": [],
   "source": [
    "ts = runs.copy()\n",
    "ts['pace_not_dt'] = ts['pace_in_sec'].apply(pace_plot)\n",
    "ts['pace'] = ts['pace_not_dt'].apply(pace_to_dt)\n",
    "ts.columns = ['Name', 'Upload ID', 'Distance', 'Moving Time', 'Avg speed', 'Max speed', 'Avg cadence', 'Total elevation gain', 'Avg HR', 'Max HR', 'Date', 'Start time', 'Pace in sec', 'Pace not dt', 'Pace']"
   ]
  },
  {
   "cell_type": "code",
   "execution_count": null,
   "metadata": {},
   "outputs": [],
   "source": [
    "ts.head()"
   ]
  },
  {
   "cell_type": "code",
   "execution_count": null,
   "metadata": {},
   "outputs": [],
   "source": [
    "import plotly.graph_objects as go\n",
    "from plotly.subplots import make_subplots\n",
    "\n",
    "fig = make_subplots(specs=[[{\"secondary_y\": True}]])\n",
    "\n",
    "# Add traces\n",
    "fig.add_trace(\n",
    "    go.Scatter(x=ts['Date'], y=ts['Avg HR'], name=\"Avg HR\"),\n",
    "    secondary_y=True,\n",
    ")\n",
    "\n",
    "fig.add_trace(\n",
    "    go.Scatter(x=ts['Date'], y=ts['Max HR'], name=\"Max HR\"),\n",
    "    secondary_y=True,\n",
    ")\n",
    "\n",
    "fig.add_trace(\n",
    "    go.Scatter(x=ts['Date'], y=ts['Pace'], name=\"Pace\"),\n",
    "    secondary_y=False,\n",
    ")\n",
    "\n",
    "fig.update_layout(\n",
    "    title_text=\"Pace vs Heart rate trends\"\n",
    ")\n",
    "\n",
    "# Set x-axis title\n",
    "fig.update_xaxes(\n",
    "    title_text=\"Date\",\n",
    "    rangeselector=dict(\n",
    "        buttons=list([\n",
    "            dict(count=1, label=\"1m\", step=\"month\", stepmode=\"backward\"),\n",
    "            dict(count=6, label=\"6m\", step=\"month\", stepmode=\"backward\"),\n",
    "            dict(count=1, label=\"YTD\", step=\"year\", stepmode=\"todate\"),\n",
    "            dict(count=1, label=\"1y\", step=\"year\", stepmode=\"backward\"),\n",
    "            dict(step=\"all\")\n",
    "        ])\n",
    "    )\n",
    ")\n",
    "\n",
    "fig.update_yaxes(title_text=\"Heart Rate\", secondary_y=True)\n",
    "fig.update_yaxes(title_text=\"Pace\", secondary_y=False, autorange='reversed')\n",
    "\n",
    "fig.update_layout(\n",
    "    template='plotly_white',\n",
    "    yaxis=dict(\n",
    "        title='Pace',\n",
    "        tickformat='%M:%S'\n",
    "    )\n",
    ")\n",
    "\n",
    "fig.show()"
   ]
  },
  {
   "cell_type": "markdown",
   "metadata": {},
   "source": [
    "## Correlations"
   ]
  },
  {
   "cell_type": "code",
   "execution_count": 241,
   "metadata": {},
   "outputs": [
    {
     "data": {
      "text/html": [
       "<div>\n",
       "<style scoped>\n",
       "    .dataframe tbody tr th:only-of-type {\n",
       "        vertical-align: middle;\n",
       "    }\n",
       "\n",
       "    .dataframe tbody tr th {\n",
       "        vertical-align: top;\n",
       "    }\n",
       "\n",
       "    .dataframe thead th {\n",
       "        text-align: right;\n",
       "    }\n",
       "</style>\n",
       "<table border=\"1\" class=\"dataframe\">\n",
       "  <thead>\n",
       "    <tr style=\"text-align: right;\">\n",
       "      <th></th>\n",
       "      <th>Name</th>\n",
       "      <th>Distance</th>\n",
       "      <th>Moving Time</th>\n",
       "      <th>Avg speed</th>\n",
       "      <th>Avg cadence</th>\n",
       "      <th>Total elevation gain</th>\n",
       "      <th>Avg HR</th>\n",
       "    </tr>\n",
       "  </thead>\n",
       "  <tbody>\n",
       "    <tr>\n",
       "      <th>0</th>\n",
       "      <td>Top park</td>\n",
       "      <td>6539.2</td>\n",
       "      <td>1843</td>\n",
       "      <td>3.548</td>\n",
       "      <td>83.7</td>\n",
       "      <td>30.0</td>\n",
       "      <td>146.3</td>\n",
       "    </tr>\n",
       "    <tr>\n",
       "      <th>1</th>\n",
       "      <td>Sat shift</td>\n",
       "      <td>15263.5</td>\n",
       "      <td>4640</td>\n",
       "      <td>3.290</td>\n",
       "      <td>83.1</td>\n",
       "      <td>174.0</td>\n",
       "      <td>155.1</td>\n",
       "    </tr>\n",
       "    <tr>\n",
       "      <th>2</th>\n",
       "      <td>Friyay</td>\n",
       "      <td>6385.1</td>\n",
       "      <td>1876</td>\n",
       "      <td>3.404</td>\n",
       "      <td>84.1</td>\n",
       "      <td>89.0</td>\n",
       "      <td>164.3</td>\n",
       "    </tr>\n",
       "    <tr>\n",
       "      <th>3</th>\n",
       "      <td>Wake up</td>\n",
       "      <td>6302.1</td>\n",
       "      <td>1830</td>\n",
       "      <td>3.444</td>\n",
       "      <td>84.2</td>\n",
       "      <td>90.0</td>\n",
       "      <td>149.0</td>\n",
       "    </tr>\n",
       "    <tr>\n",
       "      <th>4</th>\n",
       "      <td>Tempo 🌶</td>\n",
       "      <td>6717.9</td>\n",
       "      <td>1781</td>\n",
       "      <td>3.772</td>\n",
       "      <td>83.8</td>\n",
       "      <td>38.0</td>\n",
       "      <td>144.9</td>\n",
       "    </tr>\n",
       "  </tbody>\n",
       "</table>\n",
       "</div>"
      ],
      "text/plain": [
       "        Name  Distance  Moving Time  Avg speed  Avg cadence  \\\n",
       "0   Top park    6539.2         1843      3.548         83.7   \n",
       "1  Sat shift   15263.5         4640      3.290         83.1   \n",
       "2     Friyay    6385.1         1876      3.404         84.1   \n",
       "3    Wake up    6302.1         1830      3.444         84.2   \n",
       "4    Tempo 🌶    6717.9         1781      3.772         83.8   \n",
       "\n",
       "   Total elevation gain  Avg HR  \n",
       "0                  30.0   146.3  \n",
       "1                 174.0   155.1  \n",
       "2                  89.0   164.3  \n",
       "3                  90.0   149.0  \n",
       "4                  38.0   144.9  "
      ]
     },
     "execution_count": 241,
     "metadata": {},
     "output_type": "execute_result"
    }
   ],
   "source": [
    "corr_data = runs.copy()\n",
    "corr_data = corr_data.drop(['upload_id', 'max_speed', 'max_heartrate', 'pace_in_sec', 'start_time', 'start_date_local'], axis=1)\n",
    "corr_data.columns = ['Name', 'Distance', 'Moving Time', 'Avg speed', 'Avg cadence', 'Total elevation gain', 'Avg HR']\n",
    "corr_data.head()"
   ]
  },
  {
   "cell_type": "code",
   "execution_count": 242,
   "metadata": {},
   "outputs": [
    {
     "data": {
      "image/png": "[encoded data removed]",
      "text/plain": [
       "<Figure size 1080x720 with 2 Axes>"
      ]
     },
     "metadata": {},
     "output_type": "display_data"
    }
   ],
   "source": [
    "corr = corr_data.corr()\n",
    "plt.figure(figsize = (15, 10))\n",
    "sns.heatmap(corr, annot=True, fmt=\".2f\");"
   ]
  },
  {
   "cell_type": "markdown",
   "metadata": {},
   "source": [
    "# Workout trends"
   ]
  },
  {
   "cell_type": "code",
   "execution_count": null,
   "metadata": {},
   "outputs": [],
   "source": [
    "trends = runs.copy()\n",
    "trends = trends.drop(['name', 'upload_id', 'start_time'], axis = 1)\n",
    "trends.set_index('start_date_local', inplace=True)\n",
    "trends.set_index(pd.to_datetime(trends.index), drop=True, inplace=True)"
   ]
  },
  {
   "cell_type": "code",
   "execution_count": null,
   "metadata": {},
   "outputs": [],
   "source": [
    "trends['weekday'] = trends.index.map(lambda x: x.weekday)\n",
    "trends['moving_time'] = trends['moving_time'].apply(lambda x: x / 60)"
   ]
  },
  {
   "cell_type": "code",
   "execution_count": null,
   "metadata": {},
   "outputs": [],
   "source": [
    "trends.head()"
   ]
  },
  {
   "cell_type": "markdown",
   "metadata": {},
   "source": [
    "### Weekday"
   ]
  },
  {
   "cell_type": "code",
   "execution_count": null,
   "metadata": {},
   "outputs": [],
   "source": [
    "weekday = trends.groupby('weekday').mean()"
   ]
  },
  {
   "cell_type": "code",
   "execution_count": null,
   "metadata": {},
   "outputs": [],
   "source": [
    "import calendar\n",
    "days = list(calendar.day_name)"
   ]
  },
  {
   "cell_type": "code",
   "execution_count": null,
   "metadata": {},
   "outputs": [],
   "source": [
    "weekday['days'] = list(calendar.day_name)"
   ]
  },
  {
   "cell_type": "code",
   "execution_count": null,
   "metadata": {},
   "outputs": [],
   "source": [
    "weekday"
   ]
  },
  {
   "cell_type": "code",
   "execution_count": null,
   "metadata": {},
   "outputs": [],
   "source": [
    "fig, ax = plt.subplots(figsize = (12,6))\n",
    "fig = sns.barplot(x = 'days', y='average_speed', data=weekday, palette=sns.color_palette('husl', 9))\n",
    "\n",
    "ax.set_title('Average training time by weekday')\n",
    "ax.set_xlabel('')\n",
    "ax.set_ylabel('Time (min)');"
   ]
  },
  {
   "cell_type": "markdown",
   "metadata": {},
   "source": [
    "### Yearly"
   ]
  },
  {
   "cell_type": "code",
   "execution_count": null,
   "metadata": {},
   "outputs": [],
   "source": [
    "trends['year'] = trends.index.map(lambda x: x.year)\n",
    "trends['year'].value_counts()"
   ]
  },
  {
   "cell_type": "code",
   "execution_count": null,
   "metadata": {},
   "outputs": [],
   "source": [
    "yearly = trends.groupby('year').mean()"
   ]
  },
  {
   "cell_type": "code",
   "execution_count": null,
   "metadata": {},
   "outputs": [],
   "source": [
    "yearly"
   ]
  },
  {
   "cell_type": "code",
   "execution_count": null,
   "metadata": {},
   "outputs": [],
   "source": [
    "yearly['years'] = yearly.index"
   ]
  },
  {
   "cell_type": "code",
   "execution_count": null,
   "metadata": {},
   "outputs": [],
   "source": [
    "fig, ax = plt.subplots(figsize = (12,6))\n",
    "fig = sns.barplot(x ='years', y='moving_time', data=yearly, palette=sns.color_palette('husl', 9))\n",
    "\n",
    "ax.set_title('Average training time by year')\n",
    "ax.set_xlabel('')\n",
    "ax.set_ylabel('Time (min)');"
   ]
  },
  {
   "cell_type": "markdown",
   "metadata": {},
   "source": [
    "## Scaling"
   ]
  },
  {
   "cell_type": "code",
   "execution_count": 165,
   "metadata": {},
   "outputs": [
    {
     "data": {
      "text/html": [
       "<div>\n",
       "<style scoped>\n",
       "    .dataframe tbody tr th:only-of-type {\n",
       "        vertical-align: middle;\n",
       "    }\n",
       "\n",
       "    .dataframe tbody tr th {\n",
       "        vertical-align: top;\n",
       "    }\n",
       "\n",
       "    .dataframe thead th {\n",
       "        text-align: right;\n",
       "    }\n",
       "</style>\n",
       "<table border=\"1\" class=\"dataframe\">\n",
       "  <thead>\n",
       "    <tr style=\"text-align: right;\">\n",
       "      <th></th>\n",
       "      <th>name</th>\n",
       "      <th>upload_id</th>\n",
       "      <th>distance</th>\n",
       "      <th>moving_time</th>\n",
       "      <th>average_speed</th>\n",
       "      <th>max_speed</th>\n",
       "      <th>average_cadence</th>\n",
       "      <th>total_elevation_gain</th>\n",
       "      <th>average_heartrate</th>\n",
       "      <th>max_heartrate</th>\n",
       "      <th>start_time</th>\n",
       "      <th>pace_in_sec</th>\n",
       "      <th>pace_not_dt</th>\n",
       "      <th>vo2_max</th>\n",
       "      <th>power</th>\n",
       "      <th>date</th>\n",
       "    </tr>\n",
       "    <tr>\n",
       "      <th>start_date_local</th>\n",
       "      <th></th>\n",
       "      <th></th>\n",
       "      <th></th>\n",
       "      <th></th>\n",
       "      <th></th>\n",
       "      <th></th>\n",
       "      <th></th>\n",
       "      <th></th>\n",
       "      <th></th>\n",
       "      <th></th>\n",
       "      <th></th>\n",
       "      <th></th>\n",
       "      <th></th>\n",
       "      <th></th>\n",
       "      <th></th>\n",
       "      <th></th>\n",
       "    </tr>\n",
       "  </thead>\n",
       "  <tbody>\n",
       "    <tr>\n",
       "      <th>2021-02-22</th>\n",
       "      <td>Top park</td>\n",
       "      <td>5.151254e+09</td>\n",
       "      <td>6539.2</td>\n",
       "      <td>1843</td>\n",
       "      <td>3.548</td>\n",
       "      <td>4.8</td>\n",
       "      <td>83.7</td>\n",
       "      <td>30.0</td>\n",
       "      <td>146.3</td>\n",
       "      <td>163.0</td>\n",
       "      <td>06:51:28</td>\n",
       "      <td>281.848929</td>\n",
       "      <td>4:41</td>\n",
       "      <td>48</td>\n",
       "      <td>303</td>\n",
       "      <td>2021-02-22</td>\n",
       "    </tr>\n",
       "    <tr>\n",
       "      <th>2021-02-20</th>\n",
       "      <td>Sat shift</td>\n",
       "      <td>5.141204e+09</td>\n",
       "      <td>15263.5</td>\n",
       "      <td>4640</td>\n",
       "      <td>3.290</td>\n",
       "      <td>7.3</td>\n",
       "      <td>83.1</td>\n",
       "      <td>174.0</td>\n",
       "      <td>155.1</td>\n",
       "      <td>176.0</td>\n",
       "      <td>15:18:05</td>\n",
       "      <td>303.951368</td>\n",
       "      <td>5:03</td>\n",
       "      <td>45</td>\n",
       "      <td>281</td>\n",
       "      <td>2021-02-20</td>\n",
       "    </tr>\n",
       "    <tr>\n",
       "      <th>2021-02-19</th>\n",
       "      <td>Friyay</td>\n",
       "      <td>5.132506e+09</td>\n",
       "      <td>6385.1</td>\n",
       "      <td>1876</td>\n",
       "      <td>3.404</td>\n",
       "      <td>5.8</td>\n",
       "      <td>84.1</td>\n",
       "      <td>89.0</td>\n",
       "      <td>164.3</td>\n",
       "      <td>181.0</td>\n",
       "      <td>07:02:33</td>\n",
       "      <td>293.772033</td>\n",
       "      <td>4:53</td>\n",
       "      <td>46</td>\n",
       "      <td>290</td>\n",
       "      <td>2021-02-19</td>\n",
       "    </tr>\n",
       "    <tr>\n",
       "      <th>2021-02-17</th>\n",
       "      <td>Wake up</td>\n",
       "      <td>5.121727e+09</td>\n",
       "      <td>6302.1</td>\n",
       "      <td>1830</td>\n",
       "      <td>3.444</td>\n",
       "      <td>5.2</td>\n",
       "      <td>84.2</td>\n",
       "      <td>90.0</td>\n",
       "      <td>149.0</td>\n",
       "      <td>163.0</td>\n",
       "      <td>06:54:45</td>\n",
       "      <td>290.360046</td>\n",
       "      <td>4:50</td>\n",
       "      <td>47</td>\n",
       "      <td>294</td>\n",
       "      <td>2021-02-17</td>\n",
       "    </tr>\n",
       "    <tr>\n",
       "      <th>2021-02-15</th>\n",
       "      <td>Tempo 🌶</td>\n",
       "      <td>5.111858e+09</td>\n",
       "      <td>6717.9</td>\n",
       "      <td>1781</td>\n",
       "      <td>3.772</td>\n",
       "      <td>5.3</td>\n",
       "      <td>83.8</td>\n",
       "      <td>38.0</td>\n",
       "      <td>144.9</td>\n",
       "      <td>174.0</td>\n",
       "      <td>11:47:45</td>\n",
       "      <td>265.111347</td>\n",
       "      <td>4:25</td>\n",
       "      <td>51</td>\n",
       "      <td>322</td>\n",
       "      <td>2021-02-15</td>\n",
       "    </tr>\n",
       "  </tbody>\n",
       "</table>\n",
       "</div>"
      ],
      "text/plain": [
       "                       name     upload_id  distance  moving_time  \\\n",
       "start_date_local                                                   \n",
       "2021-02-22         Top park  5.151254e+09    6539.2         1843   \n",
       "2021-02-20        Sat shift  5.141204e+09   15263.5         4640   \n",
       "2021-02-19           Friyay  5.132506e+09    6385.1         1876   \n",
       "2021-02-17          Wake up  5.121727e+09    6302.1         1830   \n",
       "2021-02-15          Tempo 🌶  5.111858e+09    6717.9         1781   \n",
       "\n",
       "                  average_speed  max_speed  average_cadence  \\\n",
       "start_date_local                                              \n",
       "2021-02-22                3.548        4.8             83.7   \n",
       "2021-02-20                3.290        7.3             83.1   \n",
       "2021-02-19                3.404        5.8             84.1   \n",
       "2021-02-17                3.444        5.2             84.2   \n",
       "2021-02-15                3.772        5.3             83.8   \n",
       "\n",
       "                  total_elevation_gain  average_heartrate  max_heartrate  \\\n",
       "start_date_local                                                           \n",
       "2021-02-22                        30.0              146.3          163.0   \n",
       "2021-02-20                       174.0              155.1          176.0   \n",
       "2021-02-19                        89.0              164.3          181.0   \n",
       "2021-02-17                        90.0              149.0          163.0   \n",
       "2021-02-15                        38.0              144.9          174.0   \n",
       "\n",
       "                 start_time  pace_in_sec pace_not_dt  vo2_max  power  \\\n",
       "start_date_local                                                       \n",
       "2021-02-22         06:51:28   281.848929        4:41       48    303   \n",
       "2021-02-20         15:18:05   303.951368        5:03       45    281   \n",
       "2021-02-19         07:02:33   293.772033        4:53       46    290   \n",
       "2021-02-17         06:54:45   290.360046        4:50       47    294   \n",
       "2021-02-15         11:47:45   265.111347        4:25       51    322   \n",
       "\n",
       "                        date  \n",
       "start_date_local              \n",
       "2021-02-22        2021-02-22  \n",
       "2021-02-20        2021-02-20  \n",
       "2021-02-19        2021-02-19  \n",
       "2021-02-17        2021-02-17  \n",
       "2021-02-15        2021-02-15  "
      ]
     },
     "execution_count": 165,
     "metadata": {},
     "output_type": "execute_result"
    }
   ],
   "source": [
    "display = runs.copy()\n",
    "display['pace_not_dt'] = display['pace_in_sec'].apply(pace_plot)\n",
    "display['vo2_max'] = display.apply(vo2_max, axis=1)\n",
    "display['power'] = display.apply(power, axis=1)\n",
    "display = display.set_index('start_date_local')\n",
    "display['date'] = display.index\n",
    "start_date = date(2021, 1, 1)\n",
    "end_date = date.today()\n",
    "display = display.loc[end_date : start_date]\n",
    "display.head()"
   ]
  },
  {
   "cell_type": "code",
   "execution_count": 166,
   "metadata": {},
   "outputs": [],
   "source": [
    "unscaled = display.drop(['name', 'upload_id', 'start_time', 'start_time', 'pace_in_sec', 'pace_not_dt', 'vo2_max', 'date', 'power'], axis = 1)"
   ]
  },
  {
   "cell_type": "code",
   "execution_count": 167,
   "metadata": {},
   "outputs": [],
   "source": [
    "import sklearn\n",
    "from sklearn.preprocessing import StandardScaler\n",
    "X = StandardScaler().fit_transform(unscaled)"
   ]
  },
  {
   "cell_type": "code",
   "execution_count": 168,
   "metadata": {},
   "outputs": [],
   "source": [
    "scaled_runs = pd.DataFrame(X, columns=['distance', 'moving_time', 'average_speed', 'max_speed', 'average_cadence', \n",
    "                                       'total_elevation_gain', 'average_heartrate', 'max_heartrate'])"
   ]
  },
  {
   "cell_type": "code",
   "execution_count": 169,
   "metadata": {},
   "outputs": [
    {
     "data": {
      "image/png": "[encoded data removed]",
      "text/plain": [
       "<Figure size 1440x720 with 2 Axes>"
      ]
     },
     "metadata": {},
     "output_type": "display_data"
    }
   ],
   "source": [
    "sns.set_style('white')\n",
    "fig, (ax1, ax2) = plt.subplots(ncols=2, figsize=(20, 10))\n",
    "\n",
    "ax1.set_title('Before Scaling')\n",
    "sns.kdeplot(unscaled['distance'], ax=ax1)\n",
    "sns.kdeplot(unscaled['moving_time'], ax=ax1)\n",
    "sns.kdeplot(unscaled['average_speed'], ax=ax1)\n",
    "sns.kdeplot(unscaled['max_speed'], ax=ax1)\n",
    "sns.kdeplot(unscaled['average_cadence'], ax=ax1)\n",
    "sns.kdeplot(unscaled['total_elevation_gain'], ax=ax1)\n",
    "sns.kdeplot(unscaled['average_heartrate'], ax=ax1)\n",
    "sns.kdeplot(unscaled['max_heartrate'], ax=ax1)\n",
    "\n",
    "ax2.set_title('After Standard Scaler')\n",
    "sns.kdeplot(scaled_runs['distance'], ax=ax2)\n",
    "sns.kdeplot(scaled_runs['moving_time'], ax=ax2)\n",
    "sns.kdeplot(scaled_runs['average_speed'], ax=ax2)\n",
    "sns.kdeplot(scaled_runs['max_speed'], ax=ax2)\n",
    "sns.kdeplot(scaled_runs['average_cadence'], ax=ax2)\n",
    "sns.kdeplot(scaled_runs['total_elevation_gain'], ax=ax2)\n",
    "sns.kdeplot(scaled_runs['average_heartrate'], ax=ax2)\n",
    "sns.kdeplot(scaled_runs['max_heartrate'], ax=ax2)\n",
    "\n",
    "plt.show()"
   ]
  },
  {
   "cell_type": "markdown",
   "metadata": {},
   "source": [
    "## Clustering"
   ]
  },
  {
   "cell_type": "code",
   "execution_count": 214,
   "metadata": {},
   "outputs": [],
   "source": [
    "slider_input = 5"
   ]
  },
  {
   "cell_type": "code",
   "execution_count": 215,
   "metadata": {},
   "outputs": [
    {
     "data": {
      "text/plain": [
       "0    11\n",
       "2     8\n",
       "4     4\n",
       "1     2\n",
       "3     1\n",
       "Name: cluster, dtype: int64"
      ]
     },
     "execution_count": 215,
     "metadata": {},
     "output_type": "execute_result"
    }
   ],
   "source": [
    "from sklearn.cluster import KMeans\n",
    "model = KMeans(n_clusters=slider_input)\n",
    "model.fit(X)\n",
    "scaled_runs['cluster'] = model.labels_\n",
    "scaled_runs['cluster'].value_counts()"
   ]
  },
  {
   "cell_type": "code",
   "execution_count": 216,
   "metadata": {},
   "outputs": [],
   "source": [
    "# find optimal k using elbow method\n",
    "sum_of_squared_distances = []\n",
    "K = range(2, 10)\n",
    "for k in K:\n",
    "    km = KMeans(n_clusters=k)\n",
    "    km = km.fit(X)\n",
    "    sum_of_squared_distances.append(km.inertia_)"
   ]
  },
  {
   "cell_type": "code",
   "execution_count": 217,
   "metadata": {},
   "outputs": [
    {
     "data": {
      "image/png": "[encoded data removed]",
      "text/plain": [
       "<Figure size 432x288 with 1 Axes>"
      ]
     },
     "metadata": {},
     "output_type": "display_data"
    }
   ],
   "source": [
    "plt.plot(K, sum_of_squared_distances, 'bx-')\n",
    "plt.xlabel('k')\n",
    "plt.ylabel('Sum of squared distances (inertias)')\n",
    "plt.title('Elbow Method for Optimal k')\n",
    "plt.show()"
   ]
  },
  {
   "cell_type": "code",
   "execution_count": 218,
   "metadata": {},
   "outputs": [],
   "source": [
    "# find optimal k using silhouette scores\n",
    "from sklearn.metrics import silhouette_score\n",
    "silhouette_scores = []\n",
    "for k in K:\n",
    "    model = KMeans(n_clusters=k)\n",
    "    model = model.fit(X)\n",
    "    ss = silhouette_score(X, model.labels_)\n",
    "    silhouette_scores.append(ss)"
   ]
  },
  {
   "cell_type": "code",
   "execution_count": 219,
   "metadata": {},
   "outputs": [
    {
     "data": {
      "image/png": "[encoded data removed]",
      "text/plain": [
       "<Figure size 432x288 with 1 Axes>"
      ]
     },
     "metadata": {},
     "output_type": "display_data"
    }
   ],
   "source": [
    "plt.plot(K, silhouette_scores, 'bx-')\n",
    "plt.xlabel('k')\n",
    "plt.ylabel('Silhouette score')\n",
    "plt.title('Silhouette Score Method for Optimal k')\n",
    "plt.show()"
   ]
  },
  {
   "cell_type": "code",
   "execution_count": 220,
   "metadata": {},
   "outputs": [],
   "source": [
    "clustered = display.copy()\n",
    "clustered = clustered.reset_index(drop=True)\n",
    "clustered['cluster'] = scaled_runs['cluster']"
   ]
  },
  {
   "cell_type": "code",
   "execution_count": 221,
   "metadata": {},
   "outputs": [
    {
     "data": {
      "text/html": [
       "<div>\n",
       "<style scoped>\n",
       "    .dataframe tbody tr th:only-of-type {\n",
       "        vertical-align: middle;\n",
       "    }\n",
       "\n",
       "    .dataframe tbody tr th {\n",
       "        vertical-align: top;\n",
       "    }\n",
       "\n",
       "    .dataframe thead th {\n",
       "        text-align: right;\n",
       "    }\n",
       "</style>\n",
       "<table border=\"1\" class=\"dataframe\">\n",
       "  <thead>\n",
       "    <tr style=\"text-align: right;\">\n",
       "      <th></th>\n",
       "      <th>#runs in cluster</th>\n",
       "    </tr>\n",
       "    <tr>\n",
       "      <th>Cluster id</th>\n",
       "      <th></th>\n",
       "    </tr>\n",
       "  </thead>\n",
       "  <tbody>\n",
       "    <tr>\n",
       "      <th>0</th>\n",
       "      <td>11</td>\n",
       "    </tr>\n",
       "    <tr>\n",
       "      <th>2</th>\n",
       "      <td>8</td>\n",
       "    </tr>\n",
       "    <tr>\n",
       "      <th>4</th>\n",
       "      <td>4</td>\n",
       "    </tr>\n",
       "    <tr>\n",
       "      <th>1</th>\n",
       "      <td>2</td>\n",
       "    </tr>\n",
       "    <tr>\n",
       "      <th>3</th>\n",
       "      <td>1</td>\n",
       "    </tr>\n",
       "  </tbody>\n",
       "</table>\n",
       "</div>"
      ],
      "text/plain": [
       "            #runs in cluster\n",
       "Cluster id                  \n",
       "0                         11\n",
       "2                          8\n",
       "4                          4\n",
       "1                          2\n",
       "3                          1"
      ]
     },
     "execution_count": 221,
     "metadata": {},
     "output_type": "execute_result"
    }
   ],
   "source": [
    "cluster_counts = pd.DataFrame(clustered['cluster'].value_counts())\n",
    "cluster_counts.columns = ['#runs in cluster']\n",
    "cluster_counts.index.rename('Cluster id', inplace=True)"
   ]
  },
  {
   "cell_type": "code",
   "execution_count": 229,
   "metadata": {},
   "outputs": [
    {
     "data": {
      "text/plain": [
       "[0, 1, 2, 3, 4]"
      ]
     },
     "execution_count": 229,
     "metadata": {},
     "output_type": "execute_result"
    }
   ],
   "source": [
    "sorted(list(cluster_counts.index))"
   ]
  },
  {
   "cell_type": "code",
   "execution_count": 230,
   "metadata": {},
   "outputs": [
    {
     "data": {
      "text/plain": [
       "'Cluster id'"
      ]
     },
     "execution_count": 230,
     "metadata": {},
     "output_type": "execute_result"
    }
   ],
   "source": [
    "cluster_counts.index.name"
   ]
  },
  {
   "cell_type": "code",
   "execution_count": 222,
   "metadata": {},
   "outputs": [],
   "source": [
    "clustered = clustered.drop(['upload_id', 'moving_time', 'average_speed', \n",
    "                            'max_speed', 'average_cadence', 'average_heartrate',\n",
    "                            'max_heartrate', 'start_time', 'pace_in_sec'], axis=1)\n",
    "clustered['distance'] = clustered['distance'].apply(lambda x: round(x/1000, 2))\n",
    "clustered = clustered.set_index('date')\n",
    "clustered.columns = ['Name', 'Distance', 'Total elevation gain', 'Pace', 'VO2 max', 'Power', 'Cluster']"
   ]
  },
  {
   "cell_type": "code",
   "execution_count": 223,
   "metadata": {},
   "outputs": [
    {
     "data": {
      "text/html": [
       "<div>\n",
       "<style scoped>\n",
       "    .dataframe tbody tr th:only-of-type {\n",
       "        vertical-align: middle;\n",
       "    }\n",
       "\n",
       "    .dataframe tbody tr th {\n",
       "        vertical-align: top;\n",
       "    }\n",
       "\n",
       "    .dataframe thead th {\n",
       "        text-align: right;\n",
       "    }\n",
       "</style>\n",
       "<table border=\"1\" class=\"dataframe\">\n",
       "  <thead>\n",
       "    <tr style=\"text-align: right;\">\n",
       "      <th></th>\n",
       "      <th>Name</th>\n",
       "      <th>Distance</th>\n",
       "      <th>Total elevation gain</th>\n",
       "      <th>Pace</th>\n",
       "      <th>VO2 max</th>\n",
       "      <th>Power</th>\n",
       "      <th>Cluster</th>\n",
       "    </tr>\n",
       "    <tr>\n",
       "      <th>date</th>\n",
       "      <th></th>\n",
       "      <th></th>\n",
       "      <th></th>\n",
       "      <th></th>\n",
       "      <th></th>\n",
       "      <th></th>\n",
       "      <th></th>\n",
       "    </tr>\n",
       "  </thead>\n",
       "  <tbody>\n",
       "    <tr>\n",
       "      <th>2021-02-22</th>\n",
       "      <td>Top park</td>\n",
       "      <td>6.54</td>\n",
       "      <td>30.0</td>\n",
       "      <td>4:41</td>\n",
       "      <td>48</td>\n",
       "      <td>303</td>\n",
       "      <td>0</td>\n",
       "    </tr>\n",
       "    <tr>\n",
       "      <th>2021-02-20</th>\n",
       "      <td>Sat shift</td>\n",
       "      <td>15.26</td>\n",
       "      <td>174.0</td>\n",
       "      <td>5:03</td>\n",
       "      <td>45</td>\n",
       "      <td>281</td>\n",
       "      <td>1</td>\n",
       "    </tr>\n",
       "    <tr>\n",
       "      <th>2021-02-19</th>\n",
       "      <td>Friyay</td>\n",
       "      <td>6.39</td>\n",
       "      <td>89.0</td>\n",
       "      <td>4:53</td>\n",
       "      <td>46</td>\n",
       "      <td>290</td>\n",
       "      <td>2</td>\n",
       "    </tr>\n",
       "    <tr>\n",
       "      <th>2021-02-17</th>\n",
       "      <td>Wake up</td>\n",
       "      <td>6.30</td>\n",
       "      <td>90.0</td>\n",
       "      <td>4:50</td>\n",
       "      <td>47</td>\n",
       "      <td>294</td>\n",
       "      <td>0</td>\n",
       "    </tr>\n",
       "    <tr>\n",
       "      <th>2021-02-15</th>\n",
       "      <td>Tempo 🌶</td>\n",
       "      <td>6.72</td>\n",
       "      <td>38.0</td>\n",
       "      <td>4:25</td>\n",
       "      <td>51</td>\n",
       "      <td>322</td>\n",
       "      <td>0</td>\n",
       "    </tr>\n",
       "  </tbody>\n",
       "</table>\n",
       "</div>"
      ],
      "text/plain": [
       "                 Name  Distance  Total elevation gain  Pace  VO2 max  Power  \\\n",
       "date                                                                          \n",
       "2021-02-22   Top park      6.54                  30.0  4:41       48    303   \n",
       "2021-02-20  Sat shift     15.26                 174.0  5:03       45    281   \n",
       "2021-02-19     Friyay      6.39                  89.0  4:53       46    290   \n",
       "2021-02-17    Wake up      6.30                  90.0  4:50       47    294   \n",
       "2021-02-15    Tempo 🌶      6.72                  38.0  4:25       51    322   \n",
       "\n",
       "            Cluster  \n",
       "date                 \n",
       "2021-02-22        0  \n",
       "2021-02-20        1  \n",
       "2021-02-19        2  \n",
       "2021-02-17        0  \n",
       "2021-02-15        0  "
      ]
     },
     "execution_count": 223,
     "metadata": {},
     "output_type": "execute_result"
    }
   ],
   "source": [
    "clustered.head()"
   ]
  },
  {
   "cell_type": "code",
   "execution_count": 224,
   "metadata": {},
   "outputs": [
    {
     "data": {
      "text/html": [
       "<div>\n",
       "<style scoped>\n",
       "    .dataframe tbody tr th:only-of-type {\n",
       "        vertical-align: middle;\n",
       "    }\n",
       "\n",
       "    .dataframe tbody tr th {\n",
       "        vertical-align: top;\n",
       "    }\n",
       "\n",
       "    .dataframe thead th {\n",
       "        text-align: right;\n",
       "    }\n",
       "</style>\n",
       "<table border=\"1\" class=\"dataframe\">\n",
       "  <thead>\n",
       "    <tr style=\"text-align: right;\">\n",
       "      <th></th>\n",
       "      <th>Name</th>\n",
       "      <th>Distance</th>\n",
       "      <th>Total elevation gain</th>\n",
       "      <th>Pace</th>\n",
       "      <th>VO2 max</th>\n",
       "      <th>Power</th>\n",
       "      <th>Cluster</th>\n",
       "    </tr>\n",
       "    <tr>\n",
       "      <th>date</th>\n",
       "      <th></th>\n",
       "      <th></th>\n",
       "      <th></th>\n",
       "      <th></th>\n",
       "      <th></th>\n",
       "      <th></th>\n",
       "      <th></th>\n",
       "    </tr>\n",
       "  </thead>\n",
       "  <tbody>\n",
       "    <tr>\n",
       "      <th>2021-02-22</th>\n",
       "      <td>Top park</td>\n",
       "      <td>6.54</td>\n",
       "      <td>30.0</td>\n",
       "      <td>4:41</td>\n",
       "      <td>48</td>\n",
       "      <td>303</td>\n",
       "      <td>0</td>\n",
       "    </tr>\n",
       "    <tr>\n",
       "      <th>2021-02-17</th>\n",
       "      <td>Wake up</td>\n",
       "      <td>6.30</td>\n",
       "      <td>90.0</td>\n",
       "      <td>4:50</td>\n",
       "      <td>47</td>\n",
       "      <td>294</td>\n",
       "      <td>0</td>\n",
       "    </tr>\n",
       "    <tr>\n",
       "      <th>2021-02-15</th>\n",
       "      <td>Tempo 🌶</td>\n",
       "      <td>6.72</td>\n",
       "      <td>38.0</td>\n",
       "      <td>4:25</td>\n",
       "      <td>51</td>\n",
       "      <td>322</td>\n",
       "      <td>0</td>\n",
       "    </tr>\n",
       "    <tr>\n",
       "      <th>2021-02-05</th>\n",
       "      <td>Manlike moon</td>\n",
       "      <td>6.30</td>\n",
       "      <td>91.0</td>\n",
       "      <td>4:47</td>\n",
       "      <td>47</td>\n",
       "      <td>297</td>\n",
       "      <td>0</td>\n",
       "    </tr>\n",
       "    <tr>\n",
       "      <th>2021-02-03</th>\n",
       "      <td>Soundd</td>\n",
       "      <td>7.02</td>\n",
       "      <td>90.0</td>\n",
       "      <td>4:49</td>\n",
       "      <td>47</td>\n",
       "      <td>295</td>\n",
       "      <td>0</td>\n",
       "    </tr>\n",
       "    <tr>\n",
       "      <th>2021-02-01</th>\n",
       "      <td>Fresh</td>\n",
       "      <td>6.26</td>\n",
       "      <td>79.0</td>\n",
       "      <td>4:41</td>\n",
       "      <td>48</td>\n",
       "      <td>303</td>\n",
       "      <td>0</td>\n",
       "    </tr>\n",
       "    <tr>\n",
       "      <th>2021-01-30</th>\n",
       "      <td>Afternoon yomp</td>\n",
       "      <td>6.37</td>\n",
       "      <td>93.0</td>\n",
       "      <td>4:41</td>\n",
       "      <td>48</td>\n",
       "      <td>303</td>\n",
       "      <td>0</td>\n",
       "    </tr>\n",
       "    <tr>\n",
       "      <th>2021-01-27</th>\n",
       "      <td>Morning Run</td>\n",
       "      <td>6.33</td>\n",
       "      <td>87.0</td>\n",
       "      <td>4:46</td>\n",
       "      <td>47</td>\n",
       "      <td>298</td>\n",
       "      <td>0</td>\n",
       "    </tr>\n",
       "    <tr>\n",
       "      <th>2021-01-22</th>\n",
       "      <td>Morning Run</td>\n",
       "      <td>6.33</td>\n",
       "      <td>104.0</td>\n",
       "      <td>4:43</td>\n",
       "      <td>48</td>\n",
       "      <td>301</td>\n",
       "      <td>0</td>\n",
       "    </tr>\n",
       "    <tr>\n",
       "      <th>2021-01-11</th>\n",
       "      <td>Top park laps</td>\n",
       "      <td>5.60</td>\n",
       "      <td>34.0</td>\n",
       "      <td>4:56</td>\n",
       "      <td>46</td>\n",
       "      <td>288</td>\n",
       "      <td>0</td>\n",
       "    </tr>\n",
       "    <tr>\n",
       "      <th>2021-01-06</th>\n",
       "      <td>I like this maybach music</td>\n",
       "      <td>7.00</td>\n",
       "      <td>98.0</td>\n",
       "      <td>5:00</td>\n",
       "      <td>45</td>\n",
       "      <td>284</td>\n",
       "      <td>0</td>\n",
       "    </tr>\n",
       "  </tbody>\n",
       "</table>\n",
       "</div>"
      ],
      "text/plain": [
       "                                 Name  Distance  Total elevation gain  Pace  \\\n",
       "date                                                                          \n",
       "2021-02-22                   Top park      6.54                  30.0  4:41   \n",
       "2021-02-17                    Wake up      6.30                  90.0  4:50   \n",
       "2021-02-15                    Tempo 🌶      6.72                  38.0  4:25   \n",
       "2021-02-05               Manlike moon      6.30                  91.0  4:47   \n",
       "2021-02-03                     Soundd      7.02                  90.0  4:49   \n",
       "2021-02-01                      Fresh      6.26                  79.0  4:41   \n",
       "2021-01-30             Afternoon yomp      6.37                  93.0  4:41   \n",
       "2021-01-27                Morning Run      6.33                  87.0  4:46   \n",
       "2021-01-22                Morning Run      6.33                 104.0  4:43   \n",
       "2021-01-11              Top park laps      5.60                  34.0  4:56   \n",
       "2021-01-06  I like this maybach music      7.00                  98.0  5:00   \n",
       "\n",
       "            VO2 max  Power  Cluster  \n",
       "date                                 \n",
       "2021-02-22       48    303        0  \n",
       "2021-02-17       47    294        0  \n",
       "2021-02-15       51    322        0  \n",
       "2021-02-05       47    297        0  \n",
       "2021-02-03       47    295        0  \n",
       "2021-02-01       48    303        0  \n",
       "2021-01-30       48    303        0  \n",
       "2021-01-27       47    298        0  \n",
       "2021-01-22       48    301        0  \n",
       "2021-01-11       46    288        0  \n",
       "2021-01-06       45    284        0  "
      ]
     },
     "execution_count": 224,
     "metadata": {},
     "output_type": "execute_result"
    }
   ],
   "source": [
    "clustered[clustered['Cluster'] == 0]"
   ]
  },
  {
   "cell_type": "markdown",
   "metadata": {},
   "source": [
    "## Radar plot"
   ]
  },
  {
   "cell_type": "code",
   "execution_count": null,
   "metadata": {},
   "outputs": [],
   "source": [
    "radar_data = runs.copy()\n",
    "radar_data = radar_data[:50]\n",
    "radar_data['vo2_max'] = radar_data.apply(vo2_max, axis=1)\n",
    "radar_data.set_index('name', inplace=True)\n",
    "radar_data = radar_data.drop(['upload_id', 'max_speed', 'average_cadence', \n",
    "                              'max_heartrate', 'start_date_local', 'start_time', 'pace_in_sec', 'moving_time'], axis=1)"
   ]
  },
  {
   "cell_type": "code",
   "execution_count": null,
   "metadata": {},
   "outputs": [],
   "source": [
    "radar_data.head()"
   ]
  },
  {
   "cell_type": "code",
   "execution_count": null,
   "metadata": {},
   "outputs": [],
   "source": [
    "raw = radar_data.copy()\n",
    "\n",
    "from sklearn import preprocessing\n",
    "x = raw.values\n",
    "min_max_scaler = preprocessing.MinMaxScaler()\n",
    "x_scaled = min_max_scaler.fit_transform(x)\n",
    "normalized = pd.DataFrame(x_scaled, columns=['distance', 'average_speed', 'total_elevation_gain',\n",
    "       'average_heartrate', 'vo2_max'])\n",
    "normalized.set_index(radar_data.index, inplace=True)\n",
    "normalized = normalized.apply(lambda x: x*5, axis=1)"
   ]
  },
  {
   "cell_type": "code",
   "execution_count": null,
   "metadata": {},
   "outputs": [],
   "source": [
    "normalized.head()"
   ]
  },
  {
   "cell_type": "code",
   "execution_count": null,
   "metadata": {},
   "outputs": [],
   "source": [
    "normalized = normalized[['average_heartrate', 'average_speed', 'distance', 'total_elevation_gain', 'vo2_max']]"
   ]
  },
  {
   "cell_type": "code",
   "execution_count": null,
   "metadata": {},
   "outputs": [],
   "source": [
    "normalized.index[0]"
   ]
  },
  {
   "cell_type": "code",
   "execution_count": null,
   "metadata": {},
   "outputs": [],
   "source": [
    "import plotly.graph_objects as go\n",
    "import plotly.offline as pyo\n",
    "\n",
    "categories = ['HR', 'Speed', 'Distance', 'Elevation', 'VO2 max']\n",
    "categories = [*categories, categories[0]]\n",
    "\n",
    "run_1 = normalized.iloc[0]\n",
    "run_2 = normalized.iloc[1]\n",
    "run_3 = normalized.iloc[2]\n",
    "run_1 = [*run_1, run_1[0]]\n",
    "run_2 = [*run_2, run_2[0]]\n",
    "run_3 = [*run_3, run_3[0]]\n",
    "run_1_title = normalized.index[0]\n",
    "run_2_title = normalized.index[1]\n",
    "run_3_title = normalized.index[2]\n",
    "\n",
    "fig = go.Figure(\n",
    "    data=[\n",
    "        go.Scatterpolar(r=run_1, theta=categories, fill='toself', name=f'{run_1_title}'),\n",
    "        go.Scatterpolar(r=run_2, theta=categories, fill='toself', name=f'{run_2_title}'),\n",
    "        go.Scatterpolar(r=run_3, theta=categories, fill='toself', name=f'{run_3_title}')\n",
    "    ],\n",
    "    layout=go.Layout(\n",
    "        title=go.layout.Title(text='Last 3 runs'),\n",
    "        polar={'radialaxis': {'visible': True}},\n",
    "        showlegend=True\n",
    "    )\n",
    ")\n",
    "\n",
    "pyo.plot(fig)"
   ]
  }
 ],
 "metadata": {
  "kernelspec": {
   "display_name": "conda_python3",
   "language": "python",
   "name": "conda_python3"
  },
  "language_info": {
   "codemirror_mode": {
    "name": "ipython",
    "version": 3
   },
   "file_extension": ".py",
   "mimetype": "text/x-python",
   "name": "python",
   "nbconvert_exporter": "python",
   "pygments_lexer": "ipython3",
   "version": "3.6.13"
  }
 },
 "nbformat": 4,
 "nbformat_minor": 4
}
